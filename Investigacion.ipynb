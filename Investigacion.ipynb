{
  "nbformat": 4,
  "nbformat_minor": 0,
  "metadata": {
    "colab": {
      "provenance": [],
      "authorship_tag": "ABX9TyOpf97b5Xt5HscMEms9JSo2",
      "include_colab_link": true
    },
    "kernelspec": {
      "name": "python3",
      "display_name": "Python 3"
    },
    "language_info": {
      "name": "python"
    }
  },
  "cells": [
    {
      "cell_type": "markdown",
      "metadata": {
        "id": "view-in-github",
        "colab_type": "text"
      },
      "source": [
        "<a href=\"https://colab.research.google.com/github/MaximoRodolfo/poo/blob/main/Investigacion.ipynb\" target=\"_parent\"><img src=\"https://colab.research.google.com/assets/colab-badge.svg\" alt=\"Open In Colab\"/></a>"
      ]
    },
    {
      "cell_type": "code",
      "execution_count": null,
      "metadata": {
        "id": "xjZNLdeWKYYK"
      },
      "outputs": [],
      "source": []
    },
    {
      "cell_type": "markdown",
      "source": [
        "¿Que son las megatendencias? son fuerzas de cambio de tipo social, demografico o tecnologico capaces de transformar el mundo y nuestro modo de vida.\n",
        "\n",
        "¿Que es la inteligencia artificial? es un campo de la informatica que se encarga de crear sistemas que imiten la inteligencia humana. Esto permite que las maquinas realicen tareas que normalmente requieren de inteligencia humana. La IA se basa en el aprendizaje automatico y el aprendizaje profundo.\n",
        "\n",
        "Tipos de inteligencia artificial:\n",
        "Maquinas reactivas: se basa en reglas programadas y no puede aprender de nuevos datos.\n",
        "Memoria limitada: puede aprender de nuevos datos y mejorar con el tiempo.\n",
        "Inteligencia artificial general (AGI): es una IA cognitiva que busca replicar la inteligencia humana en multiples areas.\n",
        "Inteligencia artificial multimodal: puede procesar e integrar datos de diferentes modalidades, como texto, imagenes, audio y video.\n",
        "\n",
        "¿Que son las tecnologias discruptivas? son innovaciones que cambian de manera radical la forma en que se consumen los productos y servicios, que puden crear nuevos mercados y modelos de negocio.\n",
        "\n",
        "¿Que es una clase? define un conjunto de atributos (datos) y metodos (comportamientos) que los objetos pueden tener. Los atributos de una clase son las caracteristicas o propiedades que los objetos de esa clase tienen. Los metodos son las acciones que los objetos pueden realizar.\n",
        "\n",
        "¿Que es un objeto?  es una entidad que contiene datos y funcionalidades, y que se utiliza para simplificar programas.\n",
        "\n",
        "¿Que es un evento? accion que detecta un programa y que puede hacer que estas reaccionen. Los eventos pueden ser acciones del usuario, como hacer clic con el raton o pulsar una tecla, o cambios en el entorno.\n",
        "\n",
        "¿Que es propiedad? es un elemento de datos que permite leer, escribir o calcular el valor de un campo de datos. Las propiedades son un tipo de campo inteligente que se define en un modulo clase o estructura.\n",
        "\n",
        "Modelo orientado a objetos: es un modelo de programacion en el que el diseño de software se organiza alrededor de datos u objetos, en vez de usar funciones y logica. se enfoca en los objetos que los programadores necesitan manipular, en lugar de centrarse en la logica necesaria para esa manipulacion."
      ],
      "metadata": {
        "id": "JJsm7CfRKh_s"
      }
    }
  ]
}