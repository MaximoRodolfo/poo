{
  "nbformat": 4,
  "nbformat_minor": 0,
  "metadata": {
    "colab": {
      "provenance": [],
      "authorship_tag": "ABX9TyOjkXj4TvTr8f0Tb6NCGLZd",
      "include_colab_link": true
    },
    "kernelspec": {
      "name": "python3",
      "display_name": "Python 3"
    },
    "language_info": {
      "name": "python"
    }
  },
  "cells": [
    {
      "cell_type": "markdown",
      "metadata": {
        "id": "view-in-github",
        "colab_type": "text"
      },
      "source": [
        "<a href=\"https://colab.research.google.com/github/MaximoRodolfo/poo/blob/main/Programa1.2.ipynb\" target=\"_parent\"><img src=\"https://colab.research.google.com/assets/colab-badge.svg\" alt=\"Open In Colab\"/></a>"
      ]
    },
    {
      "cell_type": "markdown",
      "source": [
        "Programa hecho por Rodolfo Maximo Auza 06/02/25"
      ],
      "metadata": {
        "id": "KwSZAJ6o7XqX"
      }
    },
    {
      "cell_type": "code",
      "execution_count": 12,
      "metadata": {
        "id": "FdaLLCKB3PXw"
      },
      "outputs": [],
      "source": [
        "class  Saludo:\n",
        "  def __init__(self):\n",
        "    self.nombre=\"Rodolfo\"\n",
        "\n",
        "  def sal(self):\n",
        "    print(\"hola\", self.nombre)\n",
        "\n",
        "\n",
        "\n",
        "\n",
        "\n",
        "\n",
        "\n",
        ""
      ]
    },
    {
      "cell_type": "code",
      "source": [
        "x=Saludo()\n",
        "x.sal()"
      ],
      "metadata": {
        "colab": {
          "base_uri": "https://localhost:8080/"
        },
        "id": "TQ6_sOGs7wlT",
        "outputId": "45d8c5f5-d507-4c8d-bb5d-2064b244220c"
      },
      "execution_count": 13,
      "outputs": [
        {
          "output_type": "stream",
          "name": "stdout",
          "text": [
            "hola Rodolfo\n"
          ]
        }
      ]
    }
  ]
}