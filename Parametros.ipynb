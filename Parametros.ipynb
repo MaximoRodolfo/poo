{
  "nbformat": 4,
  "nbformat_minor": 0,
  "metadata": {
    "colab": {
      "provenance": [],
      "authorship_tag": "ABX9TyN/7VEIXmTWSD3kjKGQ1Wi1",
      "include_colab_link": true
    },
    "kernelspec": {
      "name": "python3",
      "display_name": "Python 3"
    },
    "language_info": {
      "name": "python"
    }
  },
  "cells": [
    {
      "cell_type": "markdown",
      "metadata": {
        "id": "view-in-github",
        "colab_type": "text"
      },
      "source": [
        "<a href=\"https://colab.research.google.com/github/MaximoRodolfo/poo/blob/main/Parametros.ipynb\" target=\"_parent\"><img src=\"https://colab.research.google.com/assets/colab-badge.svg\" alt=\"Open In Colab\"/></a>"
      ]
    },
    {
      "cell_type": "markdown",
      "source": [
        "Elaborado por Rodolfo Maximo Auza el 14/2/2025\n"
      ],
      "metadata": {
        "id": "9HdF3RnUbVp3"
      }
    },
    {
      "cell_type": "code",
      "execution_count": 3,
      "metadata": {
        "colab": {
          "base_uri": "https://localhost:8080/"
        },
        "id": "n81iOUVRbBdN",
        "outputId": "8409ef72-e84d-43dc-d69c-e5fab7191180"
      },
      "outputs": [
        {
          "output_type": "stream",
          "name": "stdout",
          "text": [
            "Elije una opccion de nuestro menu: \n",
            "1.- Circulo\n",
            "2.- Trapecio\n",
            "3.- Rectangulo\n",
            "Ingresa la opccion: 3\n",
            "Escribe la base: 6\n",
            "Escribe la altura: 8\n",
            "El area es de:  48.0\n"
          ]
        }
      ],
      "source": [
        "class Figuras:\n",
        "    def _init_(self):\n",
        "        self.a = 0\n",
        "        self.b = 0\n",
        "        self.c = 0\n",
        "    def Op(self):\n",
        "        print(\"Elije una opccion de nuestro menu: \")\n",
        "        print(\"1.- Circulo\")\n",
        "        print(\"2.- Trapecio\")\n",
        "        print(\"3.- Rectangulo\")\n",
        "        r = int(input(\"Ingresa la opccion: \"))\n",
        "        return (r)\n",
        "    def Circulo(self,rad):\n",
        "        area = 3.14 * rad**2\n",
        "        return (area)\n",
        "\n",
        "    def Trapecio(self,b1,b2,h):\n",
        "        area = ((b1 + b2)*h)/2\n",
        "        return (area)\n",
        "\n",
        "    def Rectangulo(self,b,h):\n",
        "        area= b * h\n",
        "        return (area)\n",
        "\n",
        "obj = Figuras()\n",
        "s = obj.Op()\n",
        "if s==1:\n",
        "    obj.a = float(input(\"Escribe el radio: \"))\n",
        "    resultado = obj.Circulo(obj.a)\n",
        "    print(\"El area es de: \", resultado)\n",
        "elif(s==2):\n",
        "    obj.a = float(input(\"Escribe la base mayor: \"))\n",
        "    obj.b = float(input(\"Escribe la base menor: \"))\n",
        "    obj.c = float(input(\"Escribe la altura: \"))\n",
        "    resultado = obj.Trapecio(obj.a, obj.b, obj.c)\n",
        "    print(\"El area es de: \", resultado)\n",
        "elif(s==3):\n",
        "    obj.a=float(input(\"Escribe la base: \"))\n",
        "    obj.b=float(input(\"Escribe la altura: \"))\n",
        "    resultado=obj.Rectangulo(obj.a, obj.b)\n",
        "    print(\"El area es de: \", resultado)\n",
        "else:\n",
        "    print(\"Opccion no valida.\")"
      ]
    }
  ]
}