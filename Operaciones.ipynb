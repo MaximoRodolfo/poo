{
  "nbformat": 4,
  "nbformat_minor": 0,
  "metadata": {
    "colab": {
      "provenance": [],
      "authorship_tag": "ABX9TyOpCV6ENstBxdpWp8t4HiGj",
      "include_colab_link": true
    },
    "kernelspec": {
      "name": "python3",
      "display_name": "Python 3"
    },
    "language_info": {
      "name": "python"
    }
  },
  "cells": [
    {
      "cell_type": "markdown",
      "metadata": {
        "id": "view-in-github",
        "colab_type": "text"
      },
      "source": [
        "<a href=\"https://colab.research.google.com/github/MaximoRodolfo/poo/blob/main/Operaciones.ipynb\" target=\"_parent\"><img src=\"https://colab.research.google.com/assets/colab-badge.svg\" alt=\"Open In Colab\"/></a>"
      ]
    },
    {
      "cell_type": "markdown",
      "source": [
        "Elaborado por Rodolfo Maximo Auza 16/02/25"
      ],
      "metadata": {
        "id": "eIL77c3lDIWP"
      }
    },
    {
      "cell_type": "code",
      "execution_count": 1,
      "metadata": {
        "id": "qtUx9jeyBJDN"
      },
      "outputs": [],
      "source": [
        "class Operaciones:\n",
        "    def _init_(self):\n",
        "      self.valor1=0\n",
        "      self.valor2=0\n",
        "      self.resultado=0\n",
        "      self.msj=\"\"\n",
        "\n",
        "    def Suma(self):\n",
        "      self.msj=\"La suma de\" ,self.valor1, \" + \" ,self.valor2, \" = \"\n",
        "      self.resultado=self.valor1+self.valor2\n",
        "    def Resta(self):\n",
        "      self.msj=\"La resta de\" ,self.valor1, \" - \" ,self.valor2, \" = \"\n",
        "      self.resultado=self.valor1-self.valor2\n",
        "    def Multiplicacion(self):\n",
        "      self.msj=\"La multiplicacion de\" ,self.valor1, \" * \" ,self.valor2, \" = \"\n",
        "      self.resultado=self.valor1*self.valor2\n",
        "    def Division(self):\n",
        "      self.msj=\"La divicion de\" ,self.valor1, \" / \" ,self.valor2, \" = \"\n",
        "      self.resultado=self.valor1/self.valor2\n",
        "    def imprimir(self):\n",
        "      print(self.msj,self.resultado)"
      ]
    },
    {
      "cell_type": "code",
      "source": [
        "obj= Operaciones()\n",
        "obj.valor1=int(input(\"Ingrese el primer valor: \"))\n",
        "obj.valor2=int(input(\"Ingrese el segundo valor: \"))\n",
        "obj.Suma()\n",
        "obj.imprimir()\n",
        "obj.Resta()\n",
        "obj.imprimir()\n",
        "obj.Multiplicacion()\n",
        "obj.imprimir()\n",
        "obj.Division()\n",
        "obj.imprimir()"
      ],
      "metadata": {
        "colab": {
          "base_uri": "https://localhost:8080/"
        },
        "id": "MtJuDsmCDFZE",
        "outputId": "69a0af3b-add3-4faa-ddf5-57ec31f1854c"
      },
      "execution_count": 2,
      "outputs": [
        {
          "output_type": "stream",
          "name": "stdout",
          "text": [
            "Ingrese el primer valor: 6\n",
            "Ingrese el segundo valor: 9\n",
            "('La suma de', 6, ' + ', 9, ' = ') 15\n",
            "('La resta de', 6, ' - ', 9, ' = ') -3\n",
            "('La multiplicacion de', 6, ' * ', 9, ' = ') 54\n",
            "('La divicion de', 6, ' / ', 9, ' = ') 0.6666666666666666\n"
          ]
        }
      ]
    }
  ]
}